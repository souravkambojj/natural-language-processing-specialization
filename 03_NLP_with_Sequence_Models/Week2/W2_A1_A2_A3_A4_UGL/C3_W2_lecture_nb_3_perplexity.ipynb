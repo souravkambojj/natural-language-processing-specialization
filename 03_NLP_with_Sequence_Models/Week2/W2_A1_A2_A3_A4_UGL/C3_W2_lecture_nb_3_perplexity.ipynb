{
 "cells": [
  {
   "cell_type": "markdown",
   "metadata": {},
   "source": [
    "# Working with JAX numpy and calculating perplexity: Ungraded Lecture Notebook"
   ]
  },
  {
   "cell_type": "markdown",
   "metadata": {},
   "source": [
    "Normally you would import `numpy` and rename it as `np`. \n",
    "\n",
    "However in this week's assignment you will notice that this convention has been changed. \n",
    "\n",
    "Now standard `numpy` is not renamed and `trax.fastmath.numpy` is renamed as `np`. \n",
    "\n",
    "The rationale behind this change is that you will be using Trax's numpy (which is compatible with JAX) far more often. Trax's numpy supports most of the same functions as the regular numpy so the change won't be noticeable in most cases.\n"
   ]
  },
  {
   "cell_type": "code",
   "execution_count": 1,
   "metadata": {},
   "outputs": [],
   "source": [
    "import numpy\n",
    "import trax\n",
    "import trax.fastmath.numpy as np\n",
    "\n",
    "# Setting random seeds\n",
    "numpy.random.seed(32)"
   ]
  },
  {
   "cell_type": "markdown",
   "metadata": {},
   "source": [
    "One important change to take into consideration is that the types of the resulting objects will be different depending on the version of numpy. With regular numpy you get `numpy.ndarray` but with Trax's numpy you will get `jax.interpreters.xla.DeviceArray`. These two types map to each other. So if you find some error logs mentioning DeviceArray type, don't worry about it, treat it like you would treat an ndarray and march ahead.\n",
    "\n",
    "You can get a randomized numpy array by using the `numpy.random.random()` function.\n",
    "\n",
    "This is one of the functionalities that Trax's numpy does not currently support in the same way as the regular numpy. "
   ]
  },
  {
   "cell_type": "code",
   "execution_count": 2,
   "metadata": {},
   "outputs": [
    {
     "name": "stdout",
     "output_type": "stream",
     "text": [
      "The regular numpy array looks like this:\n",
      "\n",
      " [[0.85888927 0.37271115 0.55512878 0.95565655 0.7366696  0.81620514\n",
      "  0.10108656 0.92848807 0.60910917 0.59655344]\n",
      " [0.09178413 0.34518624 0.66275252 0.44171349 0.55148779 0.70371249\n",
      "  0.58940123 0.04993276 0.56179184 0.76635847]\n",
      " [0.91090833 0.09290995 0.90252139 0.46096041 0.45201847 0.99942549\n",
      "  0.16242374 0.70937058 0.16062408 0.81077677]\n",
      " [0.03514717 0.53488673 0.16650012 0.30841038 0.04506241 0.23857613\n",
      "  0.67483453 0.78238275 0.69520163 0.32895445]\n",
      " [0.49403187 0.52412136 0.29854125 0.46310814 0.98478429 0.50113492\n",
      "  0.39807245 0.72790532 0.86333097 0.02616954]]\n",
      "\n",
      "It is of type: <class 'numpy.ndarray'>\n"
     ]
    }
   ],
   "source": [
    "numpy_array = numpy.random.random((5,10))\n",
    "print(f\"The regular numpy array looks like this:\\n\\n {numpy_array}\\n\")\n",
    "print(f\"It is of type: {type(numpy_array)}\")"
   ]
  },
  {
   "cell_type": "markdown",
   "metadata": {},
   "source": [
    "You can easily cast regular numpy arrays or lists into trax numpy arrays using the `trax.fastmath.numpy.array()` function:"
   ]
  },
  {
   "cell_type": "code",
   "execution_count": 3,
   "metadata": {},
   "outputs": [
    {
     "name": "stderr",
     "output_type": "stream",
     "text": [
      "WARNING:absl:No GPU/TPU found, falling back to CPU. (Set TF_CPP_MIN_LOG_LEVEL=0 and rerun for more info.)\n"
     ]
    },
    {
     "name": "stdout",
     "output_type": "stream",
     "text": [
      "The trax numpy array looks like this:\n",
      "\n",
      " [[0.8588893  0.37271115 0.55512875 0.9556565  0.7366696  0.81620514\n",
      "  0.10108656 0.9284881  0.60910916 0.59655344]\n",
      " [0.09178413 0.34518623 0.6627525  0.44171348 0.5514878  0.70371246\n",
      "  0.58940125 0.04993276 0.56179184 0.7663585 ]\n",
      " [0.91090834 0.09290995 0.9025214  0.46096042 0.45201847 0.9994255\n",
      "  0.16242374 0.7093706  0.16062407 0.81077677]\n",
      " [0.03514718 0.5348867  0.16650012 0.30841038 0.04506241 0.23857613\n",
      "  0.67483455 0.7823827  0.69520164 0.32895446]\n",
      " [0.49403188 0.52412134 0.29854125 0.46310815 0.9847843  0.50113493\n",
      "  0.39807245 0.72790533 0.86333096 0.02616954]]\n",
      "\n",
      "It is of type: <class 'jaxlib.xla_extension.DeviceArray'>\n"
     ]
    }
   ],
   "source": [
    "trax_numpy_array = np.array(numpy_array)\n",
    "print(f\"The trax numpy array looks like this:\\n\\n {trax_numpy_array}\\n\")\n",
    "print(f\"It is of type: {type(trax_numpy_array)}\")"
   ]
  },
  {
   "cell_type": "markdown",
   "metadata": {},
   "source": [
    "Hope you now understand the differences (and similarities) between these two versions and numpy. **Great!**\n",
    "\n",
    "The previous section was a quick look at Trax's numpy. However this notebook also aims to teach you how you can calculate the perplexity of a trained model.\n"
   ]
  },
  {
   "cell_type": "markdown",
   "metadata": {},
   "source": [
    "## Calculating Perplexity"
   ]
  },
  {
   "cell_type": "markdown",
   "metadata": {},
   "source": [
    "The perplexity is a metric that measures how well a probability model predicts a sample and it is commonly used to evaluate language models. It is defined as: \n",
    "\n",
    "$$P(W) = \\sqrt[N]{\\prod_{i=1}^{N} \\frac{1}{P(w_i| w_1,...,w_{n-1})}}$$\n",
    "\n",
    "As an implementation hack, you would usually take the log of that formula (so the computation is less prone to underflow problems). You would also need to take care of the padding, since you do not want to include the padding when calculating the perplexity (to avoid an artificially good metric).\n",
    "\n",
    "After taking the logarithm of $P(W)$ you have:\n",
    "\n",
    "$$log P(W) = {\\log\\left(\\sqrt[N]{\\prod_{i=1}^{N} \\frac{1}{P(w_i| w_1,...,w_{n-1})}}\\right)}$$\n",
    "\n",
    "\n",
    "$$ = \\log\\left(\\left(\\prod_{i=1}^{N} \\frac{1}{P(w_i| w_1,...,w_{n-1})}\\right)^{\\frac{1}{N}}\\right)$$\n",
    "\n",
    "$$ = \\log\\left(\\left({\\prod_{i=1}^{N}{P(w_i| w_1,...,w_{n-1})}}\\right)^{-\\frac{1}{N}}\\right)$$\n",
    "\n",
    "$$ = -\\frac{1}{N}{\\log\\left({\\prod_{i=1}^{N}{P(w_i| w_1,...,w_{n-1})}}\\right)} $$\n",
    "\n",
    "$$ = -\\frac{1}{N}{{\\sum_{i=1}^{N}{\\log P(w_i| w_1,...,w_{n-1})}}} $$\n"
   ]
  },
  {
   "cell_type": "markdown",
   "metadata": {},
   "source": [
    "You will be working with a real example from this week's assignment. The example is made up of:\n",
    "   - `predictions` : log probabilities for each element in the vocabulary for 32 sequences with 64 elements (after padding).\n",
    "   - `targets` : 32 observed sequences of 64 elements (after padding)."
   ]
  },
  {
   "cell_type": "code",
   "execution_count": 4,
   "metadata": {},
   "outputs": [
    {
     "name": "stdout",
     "output_type": "stream",
     "text": [
      "predictions has shape: (32, 64, 256)\n",
      "targets has shape: (32, 64)\n"
     ]
    }
   ],
   "source": [
    "from trax import layers as tl\n",
    "\n",
    "# Load from .npy files\n",
    "predictions = numpy.load('predictions.npy')\n",
    "targets = numpy.load('targets.npy')\n",
    "\n",
    "# Cast to jax.interpreters.xla.DeviceArray\n",
    "predictions = np.array(predictions)\n",
    "targets = np.array(targets)\n",
    "\n",
    "# Print shapes\n",
    "print(f'predictions has shape: {predictions.shape}')\n",
    "print(f'targets has shape: {targets.shape}')"
   ]
  },
  {
   "cell_type": "code",
   "execution_count": 16,
   "metadata": {},
   "outputs": [
    {
     "data": {
      "text/plain": [
       "DeviceArray([[[-15.579997, -25.735575, -15.576893, ..., -15.574669,\n",
       "               -15.571493, -15.569425],\n",
       "              [-24.01082 , -35.80076 , -23.743649, ..., -23.807941,\n",
       "               -23.727554, -23.804428],\n",
       "              [-15.783699, -14.416848, -15.512791, ..., -15.729168,\n",
       "               -15.671564, -15.53212 ],\n",
       "              ...,\n",
       "              [-22.37673 , -29.096514, -22.266487, ..., -22.157543,\n",
       "               -22.212416, -22.285917],\n",
       "              [-23.18771 , -39.62314 , -23.07188 , ..., -23.058746,\n",
       "               -22.928747, -23.131004],\n",
       "              [-21.843483, -26.035233, -21.877586, ..., -21.576801,\n",
       "               -21.74238 , -21.694439]],\n",
       "\n",
       "             [[-15.579997, -25.735575, -15.576893, ..., -15.574669,\n",
       "               -15.571493, -15.569425],\n",
       "              [-15.887024, -16.101957, -15.914328, ..., -15.740339,\n",
       "               -15.764511, -15.746195],\n",
       "              [-17.759518, -19.134003, -17.479977, ..., -17.778797,\n",
       "               -17.484093, -17.56089 ],\n",
       "              ...,\n",
       "              [-20.15686 , -29.839993, -20.06406 , ..., -20.013279,\n",
       "               -20.045275, -20.078325],\n",
       "              [-26.837097, -39.89199 , -26.800932, ..., -26.627785,\n",
       "               -26.620113, -26.689476],\n",
       "              [-23.57502 , -36.246265, -23.630632, ..., -23.333204,\n",
       "               -23.47393 , -23.52046 ]],\n",
       "\n",
       "             [[-15.579997, -25.735575, -15.576893, ..., -15.574669,\n",
       "               -15.571493, -15.569425],\n",
       "              [-16.79744 , -22.15945 , -16.891   , ..., -16.923325,\n",
       "               -16.82989 , -16.816925],\n",
       "              [-24.371632, -16.81244 , -24.232527, ..., -24.271975,\n",
       "               -24.233902, -24.276245],\n",
       "              ...,\n",
       "              [-21.328228, -35.19548 , -21.059362, ..., -21.212006,\n",
       "               -21.203262, -21.320404],\n",
       "              [-19.854412, -28.47691 , -19.811832, ..., -19.704107,\n",
       "               -19.939999, -19.929726],\n",
       "              [-33.88444 , -45.81009 , -33.72945 , ..., -33.757812,\n",
       "               -33.84659 , -33.965206]],\n",
       "\n",
       "             ...,\n",
       "\n",
       "             [[-15.579997, -25.735575, -15.576893, ..., -15.574669,\n",
       "               -15.571493, -15.569425],\n",
       "              [-24.01082 , -35.80076 , -23.743649, ..., -23.807941,\n",
       "               -23.727554, -23.804428],\n",
       "              [-18.902588, -34.39306 , -18.921589, ..., -18.869804,\n",
       "               -18.788353, -18.78252 ],\n",
       "              ...,\n",
       "              [-20.825802, -25.415022, -20.539186, ..., -20.328896,\n",
       "               -20.484715, -20.568027],\n",
       "              [-21.065838, -33.502285, -20.99431 , ..., -20.939528,\n",
       "               -20.856169, -20.992252],\n",
       "              [-22.443115, -31.098007, -22.377928, ..., -21.97757 ,\n",
       "               -22.341328, -22.304142]],\n",
       "\n",
       "             [[-15.579997, -25.735575, -15.576893, ..., -15.574669,\n",
       "               -15.571493, -15.569425],\n",
       "              [-17.45998 , -30.85569 , -17.617716, ..., -17.577457,\n",
       "               -17.413727, -17.502443],\n",
       "              [-24.079742, -27.709187, -23.991472, ..., -23.952171,\n",
       "               -23.798782, -23.785297],\n",
       "              ...,\n",
       "              [-26.743248, -37.23853 , -26.598307, ..., -26.528248,\n",
       "               -26.57486 , -26.655317],\n",
       "              [-18.38433 , -28.383667, -18.188627, ..., -17.998934,\n",
       "               -18.168068, -18.22628 ],\n",
       "              [-22.355278, -27.699154, -22.168337, ..., -22.171116,\n",
       "               -22.1534  , -22.076756]],\n",
       "\n",
       "             [[-15.579997, -25.735575, -15.576893, ..., -15.574669,\n",
       "               -15.571493, -15.569425],\n",
       "              [-28.261715, -31.511873, -27.987331, ..., -28.196888,\n",
       "               -28.187788, -27.869247],\n",
       "              [-37.844078, -49.857033, -37.924274, ..., -37.96389 ,\n",
       "               -37.798126, -37.68314 ],\n",
       "              ...,\n",
       "              [-23.332523, -31.912777, -23.24204 , ..., -23.123848,\n",
       "               -23.103434, -23.195461],\n",
       "              [-28.087376, -41.006397, -28.008762, ..., -27.803562,\n",
       "               -27.779736, -27.8643  ],\n",
       "              [-23.878807, -26.73228 , -23.771618, ..., -23.501503,\n",
       "               -23.687899, -23.7647  ]]], dtype=float32)"
      ]
     },
     "execution_count": 16,
     "metadata": {},
     "output_type": "execute_result"
    }
   ],
   "source": [
    "predictions"
   ]
  },
  {
   "cell_type": "markdown",
   "metadata": {},
   "source": [
    "Notice that the predictions have an extra dimension with the same length as the size of the vocabulary used.\n",
    "\n",
    "Because of this you will need a way of reshaping `targets` to match this shape. For this you can use `trax.layers.one_hot()`.\n",
    "\n",
    "Notice that `predictions.shape[-1]` will return the size of the last dimension of `predictions`."
   ]
  },
  {
   "cell_type": "code",
   "execution_count": 5,
   "metadata": {},
   "outputs": [
    {
     "name": "stdout",
     "output_type": "stream",
     "text": [
      "reshaped_targets has shape: (32, 64, 256)\n"
     ]
    }
   ],
   "source": [
    "reshaped_targets = tl.one_hot(targets, predictions.shape[-1]) #trax's one_hot function takes the input as one_hot(x, n_categories, dtype=optional)\n",
    "print(f'reshaped_targets has shape: {reshaped_targets.shape}')"
   ]
  },
  {
   "cell_type": "markdown",
   "metadata": {},
   "source": [
    "By calculating the product of the predictions and the reshaped targets and summing across the last dimension, the total log propbability of each observed element within the sequences can be computed:"
   ]
  },
  {
   "cell_type": "code",
   "execution_count": 6,
   "metadata": {},
   "outputs": [],
   "source": [
    "log_p = np.sum(predictions * reshaped_targets, axis= -1)"
   ]
  },
  {
   "cell_type": "code",
   "execution_count": 8,
   "metadata": {},
   "outputs": [
    {
     "data": {
      "text/plain": [
       "(32, 64)"
      ]
     },
     "execution_count": 8,
     "metadata": {},
     "output_type": "execute_result"
    }
   ],
   "source": [
    "log_p.shape"
   ]
  },
  {
   "cell_type": "code",
   "execution_count": 9,
   "metadata": {},
   "outputs": [
    {
     "data": {
      "text/plain": [
       "DeviceArray([[ -5.396545  ,  -1.0311184 ,  -0.66916656, ...,\n",
       "              -22.37673   , -23.18771   , -21.843483  ],\n",
       "             [ -4.5857706 ,  -1.1341286 ,  -8.538033  , ...,\n",
       "              -20.15686   , -26.837097  , -23.57502   ],\n",
       "             [ -5.2223887 ,  -1.2824144 ,  -0.17312431, ...,\n",
       "              -21.328228  , -19.854412  , -33.88444   ],\n",
       "             ...,\n",
       "             [ -5.396545  , -17.291681  ,  -4.360766  , ...,\n",
       "              -20.825802  , -21.065838  , -22.443115  ],\n",
       "             [ -5.9313164 , -14.247417  ,  -0.2637329 , ...,\n",
       "              -26.743248  , -18.38433   , -22.355278  ],\n",
       "             [ -5.670536  ,  -0.10595131,   0.        , ...,\n",
       "              -23.332523  , -28.087376  , -23.878807  ]], dtype=float32)"
      ]
     },
     "execution_count": 9,
     "metadata": {},
     "output_type": "execute_result"
    }
   ],
   "source": [
    "log_p"
   ]
  },
  {
   "cell_type": "markdown",
   "metadata": {},
   "source": [
    "Now you will need to account for the padding so this metric is not artificially deflated (since a lower perplexity means a better model). For identifying which elements are padding and which are not, you can use `np.equal()` and get a tensor with `1s` in the positions of actual values and `0s` where there are paddings."
   ]
  },
  {
   "cell_type": "code",
   "execution_count": 14,
   "metadata": {},
   "outputs": [
    {
     "data": {
      "text/plain": [
       "DeviceArray([[105, 110,  32, ...,   0,   0,   0],\n",
       "             [ 97, 110, 110, ...,   0,   0,   0],\n",
       "             [111, 102,  32, ...,   0,   0,   0],\n",
       "             ...,\n",
       "             [105,  32,  97, ...,   0,   0,   0],\n",
       "             [101, 100, 103, ...,   0,   0,   0],\n",
       "             [121, 111, 117, ...,   0,   0,   0]], dtype=int32)"
      ]
     },
     "execution_count": 14,
     "metadata": {},
     "output_type": "execute_result"
    }
   ],
   "source": [
    "targets"
   ]
  },
  {
   "cell_type": "code",
   "execution_count": 15,
   "metadata": {},
   "outputs": [
    {
     "name": "stdout",
     "output_type": "stream",
     "text": [
      "non_pad has shape: (32, 64)\n",
      "\n",
      "non_pad looks like this: \n",
      "\n",
      " [[1. 1. 1. ... 0. 0. 0.]\n",
      " [1. 1. 1. ... 0. 0. 0.]\n",
      " [1. 1. 1. ... 0. 0. 0.]\n",
      " ...\n",
      " [1. 1. 1. ... 0. 0. 0.]\n",
      " [1. 1. 1. ... 0. 0. 0.]\n",
      " [1. 1. 1. ... 0. 0. 0.]]\n"
     ]
    }
   ],
   "source": [
    "non_pad = 1.0 - np.equal(targets, 0)\n",
    "print(f'non_pad has shape: {non_pad.shape}\\n')\n",
    "print(f'non_pad looks like this: \\n\\n {non_pad}')"
   ]
  },
  {
   "cell_type": "markdown",
   "metadata": {},
   "source": [
    "By computing the product of the log probabilities and the non_pad tensor you remove the effect of padding on the metric:"
   ]
  },
  {
   "cell_type": "code",
   "execution_count": 10,
   "metadata": {},
   "outputs": [
    {
     "name": "stdout",
     "output_type": "stream",
     "text": [
      "real log probabilities still have shape: (32, 64)\n"
     ]
    }
   ],
   "source": [
    "real_log_p = log_p * non_pad\n",
    "print(f'real log probabilities still have shape: {real_log_p.shape}')"
   ]
  },
  {
   "cell_type": "markdown",
   "metadata": {},
   "source": [
    "You can check the effect of filtering out the padding by looking at the two log probabilities tensors:"
   ]
  },
  {
   "cell_type": "code",
   "execution_count": 11,
   "metadata": {},
   "outputs": [
    {
     "name": "stdout",
     "output_type": "stream",
     "text": [
      "log probabilities before filtering padding: \n",
      "\n",
      " [[ -5.396545    -1.0311184   -0.66916656 ... -22.37673    -23.18771\n",
      "  -21.843483  ]\n",
      " [ -4.5857706   -1.1341286   -8.538033   ... -20.15686    -26.837097\n",
      "  -23.57502   ]\n",
      " [ -5.2223887   -1.2824144   -0.17312431 ... -21.328228   -19.854412\n",
      "  -33.88444   ]\n",
      " ...\n",
      " [ -5.396545   -17.291681    -4.360766   ... -20.825802   -21.065838\n",
      "  -22.443115  ]\n",
      " [ -5.9313164  -14.247417    -0.2637329  ... -26.743248   -18.38433\n",
      "  -22.355278  ]\n",
      " [ -5.670536    -0.10595131   0.         ... -23.332523   -28.087376\n",
      "  -23.878807  ]]\n",
      "\n",
      "log probabilities after filtering padding: \n",
      "\n",
      " [[ -5.396545    -1.0311184   -0.66916656 ...  -0.          -0.\n",
      "   -0.        ]\n",
      " [ -4.5857706   -1.1341286   -8.538033   ...  -0.          -0.\n",
      "   -0.        ]\n",
      " [ -5.2223887   -1.2824144   -0.17312431 ...  -0.          -0.\n",
      "   -0.        ]\n",
      " ...\n",
      " [ -5.396545   -17.291681    -4.360766   ...  -0.          -0.\n",
      "   -0.        ]\n",
      " [ -5.9313164  -14.247417    -0.2637329  ...  -0.          -0.\n",
      "   -0.        ]\n",
      " [ -5.670536    -0.10595131   0.         ...  -0.          -0.\n",
      "   -0.        ]]\n"
     ]
    }
   ],
   "source": [
    "print(f'log probabilities before filtering padding: \\n\\n {log_p}\\n')\n",
    "print(f'log probabilities after filtering padding: \\n\\n {real_log_p}')"
   ]
  },
  {
   "cell_type": "markdown",
   "metadata": {},
   "source": [
    "Finally, to get the average log perplexity of the model across all sequences in the batch, you will sum the log probabilities in each sequence and divide by the number of non padding elements (which will give you the negative log perplexity per sequence). After that, you can get the mean of the log perplexity across all sequences in the batch."
   ]
  },
  {
   "cell_type": "code",
   "execution_count": 12,
   "metadata": {},
   "outputs": [
    {
     "name": "stdout",
     "output_type": "stream",
     "text": [
      "The log perplexity and perplexity of the model are respectively: 2.621184825897217 and 13.752007484436035\n"
     ]
    }
   ],
   "source": [
    "log_ppx = np.sum(real_log_p, axis=1) / np.sum(non_pad, axis=1)\n",
    "log_ppx = np.mean(-log_ppx)\n",
    "print(f'The log perplexity and perplexity of the model are respectively: {log_ppx} and {np.exp(log_ppx)}')"
   ]
  },
  {
   "cell_type": "markdown",
   "metadata": {},
   "source": [
    "**Congratulations on finishing this lecture notebook!** Now you should have a clear understanding of how to work with Trax's numpy and how to compute the perplexity to evaluate your language models. **Keep it up!**"
   ]
  }
 ],
 "metadata": {
  "kernelspec": {
   "display_name": "Python 3",
   "language": "python",
   "name": "python3"
  },
  "language_info": {
   "codemirror_mode": {
    "name": "ipython",
    "version": 3
   },
   "file_extension": ".py",
   "mimetype": "text/x-python",
   "name": "python",
   "nbconvert_exporter": "python",
   "pygments_lexer": "ipython3",
   "version": "3.7.6"
  }
 },
 "nbformat": 4,
 "nbformat_minor": 4
}
