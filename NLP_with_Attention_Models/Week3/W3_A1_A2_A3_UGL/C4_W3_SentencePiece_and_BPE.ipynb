{
 "cells": [
  {
   "cell_type": "markdown",
   "metadata": {},
   "source": [
    "# SentencePiece and BPE "
   ]
  },
  {
   "cell_type": "markdown",
   "metadata": {},
   "source": [
    "## Introduction to Tokenization"
   ]
  },
  {
   "cell_type": "markdown",
   "metadata": {},
   "source": [
    "In order to process text in neural network models it is first required to **encode** text as numbers with ids, since the tensor operations act on numbers. Finally, if the output of the network is to be words, it is required to **decode** the predicted tokens ids back to text.\n",
    "\n",
    "To encode text, the first decision that has to be made is to what level of graularity are we going to consider the text? Because ultimately, from these **tokens**, features are going to be created about them. Many different experiments have been carried out using *words*, *morphological units*, *phonemic units*, *characters*. For example, \n",
    "\n",
    "- Tokens are tricky. (raw text)\n",
    "- Tokens are tricky . ([words](https://arxiv.org/pdf/1301.3781))\n",
    "- Token s _ are _ trick _ y . ([morphemes](https://arxiv.org/pdf/1907.02423.pdf))\n",
    "- t oʊ k ə n z _ ɑː _ ˈt r ɪ k i. ([phonemes](https://www.aclweb.org/anthology/W18-5812.pdf), for STT)\n",
    "- T o k e n s _ a r e _ t r i c k y . ([character](https://www.aclweb.org/anthology/C18-1139/))"
   ]
  },
  {
   "cell_type": "markdown",
   "metadata": {},
   "source": [
    "But how to identify these units, such as words, is largely determined by the language they come from. For example, in many European languages a space is used to separate words, while in some Asian languages there are no spaces between words. Compare English and Mandarin.\n",
    "\n",
    "- Tokens are tricky. (original sentence)\n",
    "- 标记很棘手 (Mandarin)\n",
    "- Biāojì hěn jíshǒu (pinyin)\n",
    "- 标记 很 棘手 (Mandarin with spaces)\n",
    "\n",
    "\n",
    "So, the ability to **tokenize**, i.e. split text into meaningful fundamental units is not always straight-forward.\n",
    "\n",
    "Also, there are practical issues of how large our *vocabulary* of words, `vocab_size`, should be, considering memory limitations vs. coverage. A compromise may be need to be made between: \n",
    "* the finest-grained models employing characters which can be memory intensive and \n",
    "* more computationally efficient *subword* units such as [n-grams](https://arxiv.org/pdf/1712.09405) or larger units.\n",
    "\n",
    "In [SentencePiece](https://www.aclweb.org/anthology/D18-2012.pdf) unicode characters are grouped together using either a [unigram language model](https://www.aclweb.org/anthology/P18-1007.pdf) (used in this week's assignment) or [BPE](https://arxiv.org/pdf/1508.07909.pdf), **byte-pair encoding**. We will discuss BPE, since BERT and many of its variants use a modified version of BPE and its pseudocode is easy to implement and understand... hopefully!"
   ]
  },
  {
   "cell_type": "markdown",
   "metadata": {},
   "source": [
    "## SentencePiece Preprocessing\n",
    "### NFKC Normalization"
   ]
  },
  {
   "cell_type": "markdown",
   "metadata": {},
   "source": [
    "Unsurprisingly, even using unicode to initially tokenize text can be ambiguous, e.g., "
   ]
  },
  {
   "cell_type": "code",
   "execution_count": 110,
   "metadata": {},
   "outputs": [
    {
     "name": "stdout",
     "output_type": "stream",
     "text": [
      "é = é : False\n"
     ]
    }
   ],
   "source": [
    "eaccent = '\\u00E9'\n",
    "e_accent = '\\u0065\\u0301'\n",
    "print(f'{eaccent} = {e_accent} : {eaccent == e_accent}')"
   ]
  },
  {
   "cell_type": "markdown",
   "metadata": {},
   "source": [
    "SentencePiece uses the Unicode standard normalization form, [NFKC](https://en.wikipedia.org/wiki/Unicode_equivalence), so this isn't an issue. Looking at our example from above but with normalization:"
   ]
  },
  {
   "cell_type": "code",
   "execution_count": 111,
   "metadata": {},
   "outputs": [
    {
     "name": "stdout",
     "output_type": "stream",
     "text": [
      "é = é : True\n"
     ]
    }
   ],
   "source": [
    "from unicodedata import normalize\n",
    "\n",
    "norm_eaccent = normalize('NFKC', '\\u00E9')\n",
    "norm_e_accent = normalize('NFKC', '\\u0065\\u0301')\n",
    "print(f'{norm_eaccent} = {norm_e_accent} : {norm_eaccent == norm_e_accent}')"
   ]
  },
  {
   "cell_type": "markdown",
   "metadata": {},
   "source": [
    "Normalization has actually changed the unicode code point (unicode unique id) for one of these two characters."
   ]
  },
  {
   "cell_type": "code",
   "execution_count": 112,
   "metadata": {},
   "outputs": [],
   "source": [
    "def get_hex_encoding(s):\n",
    "    return ' '.join(hex(ord(c)) for c in s)\n",
    "\n",
    "def print_string_and_encoding(s):\n",
    "    print(f'{s} : {get_hex_encoding(s)}') "
   ]
  },
  {
   "cell_type": "code",
   "execution_count": 113,
   "metadata": {},
   "outputs": [
    {
     "name": "stdout",
     "output_type": "stream",
     "text": [
      "é : 0xe9\n",
      "é : 0x65 0x301\n",
      "é : 0xe9\n",
      "é : 0xe9\n"
     ]
    }
   ],
   "source": [
    "for s in [eaccent, e_accent, norm_eaccent, norm_e_accent]:\n",
    "    print_string_and_encoding(s)"
   ]
  },
  {
   "cell_type": "markdown",
   "metadata": {},
   "source": [
    "This normalization has other side effects which may be considered useful such as converting curly quotes &ldquo; to \" their ASCII equivalent. (<sup>*</sup>Although we *now* lose directionality of the quote...)"
   ]
  },
  {
   "cell_type": "markdown",
   "metadata": {},
   "source": [
    "### Lossless Tokenization<sup>*</sup>"
   ]
  },
  {
   "cell_type": "markdown",
   "metadata": {},
   "source": [
    "SentencePiece also ensures that when you tokenize your data and detokenize your data the original position of white space is preserved. <sup>*</sup>However, tabs and newlines are converted to spaces, please try this experiment yourself later below."
   ]
  },
  {
   "cell_type": "markdown",
   "metadata": {},
   "source": [
    "To ensure this **lossless tokenization**, SentencePiece replaces white space with _ (U+2581). So that a simple join of the tokens by replace underscores with spaces can restore the white space, even if there are consecutive symbols. But remember first to normalize and then replace spaces with _ (U+2581). As the following example shows."
   ]
  },
  {
   "cell_type": "code",
   "execution_count": 114,
   "metadata": {},
   "outputs": [],
   "source": [
    "s = 'Tokenization is hard.'\n",
    "s_ = s.replace(' ', '\\u2581')\n",
    "s_n = normalize('NFKC', 'Tokenization is hard.')"
   ]
  },
  {
   "cell_type": "code",
   "execution_count": 115,
   "metadata": {},
   "outputs": [
    {
     "data": {
      "text/plain": [
       "'0x2581'"
      ]
     },
     "execution_count": 115,
     "metadata": {},
     "output_type": "execute_result"
    }
   ],
   "source": [
    "get_hex_encoding('\\u2581')"
   ]
  },
  {
   "cell_type": "code",
   "execution_count": 116,
   "metadata": {},
   "outputs": [
    {
     "name": "stdout",
     "output_type": "stream",
     "text": [
      "0x54 0x6f 0x6b 0x65 0x6e 0x69 0x7a 0x61 0x74 0x69 0x6f 0x6e 0x20 0x69 0x73 0x20 0x68 0x61 0x72 0x64 0x2e\n",
      "0x54 0x6f 0x6b 0x65 0x6e 0x69 0x7a 0x61 0x74 0x69 0x6f 0x6e 0x2581 0x69 0x73 0x2581 0x68 0x61 0x72 0x64 0x2e\n",
      "0x54 0x6f 0x6b 0x65 0x6e 0x69 0x7a 0x61 0x74 0x69 0x6f 0x6e 0x20 0x69 0x73 0x20 0x68 0x61 0x72 0x64 0x2e\n"
     ]
    }
   ],
   "source": [
    "print(get_hex_encoding(s))\n",
    "print(get_hex_encoding(s_))\n",
    "print(get_hex_encoding(s_n))"
   ]
  },
  {
   "cell_type": "markdown",
   "metadata": {},
   "source": [
    "So the special unicode underscore was replaced by the ASCII unicode. Reversing the order of the second and third operations, we that the special unicode underscore was retained."
   ]
  },
  {
   "cell_type": "code",
   "execution_count": 117,
   "metadata": {},
   "outputs": [],
   "source": [
    "s = 'Tokenization is hard.'\n",
    "sn = normalize('NFKC', 'Tokenization is hard.')\n",
    "sn_ = s.replace(' ', '\\u2581')"
   ]
  },
  {
   "cell_type": "code",
   "execution_count": 118,
   "metadata": {},
   "outputs": [
    {
     "name": "stdout",
     "output_type": "stream",
     "text": [
      "0x54 0x6f 0x6b 0x65 0x6e 0x69 0x7a 0x61 0x74 0x69 0x6f 0x6e 0x20 0x69 0x73 0x20 0x68 0x61 0x72 0x64 0x2e\n",
      "0x54 0x6f 0x6b 0x65 0x6e 0x69 0x7a 0x61 0x74 0x69 0x6f 0x6e 0x20 0x69 0x73 0x20 0x68 0x61 0x72 0x64 0x2e\n",
      "0x54 0x6f 0x6b 0x65 0x6e 0x69 0x7a 0x61 0x74 0x69 0x6f 0x6e 0x2581 0x69 0x73 0x2581 0x68 0x61 0x72 0x64 0x2e\n"
     ]
    }
   ],
   "source": [
    "print(get_hex_encoding(s))\n",
    "print(get_hex_encoding(sn))\n",
    "print(get_hex_encoding(sn_))"
   ]
  },
  {
   "cell_type": "markdown",
   "metadata": {},
   "source": [
    "## BPE Algorithm\n",
    "\n",
    "Now that we have discussed the preprocessing that SentencePiece performs, we will go get our data, preprocess, and apply the BPE algorithm. We will show how this reproduces the tokenization produced by training SentencePiece on our example dataset (from this week's assignment).\n",
    "\n",
    "### Preparing our Data\n",
    "First, we get our Squad data and process as above."
   ]
  },
  {
   "cell_type": "code",
   "execution_count": 119,
   "metadata": {},
   "outputs": [],
   "source": [
    "import ast\n",
    "\n",
    "def convert_json_examples_to_text(filepath):\n",
    "    example_jsons = list(map(ast.literal_eval, open(filepath))) # Read in the json from the example file\n",
    "    texts = [example_json['text'].decode('utf-8') for example_json in example_jsons] # Decode the byte sequences\n",
    "    text = '\\n\\n'.join(texts)       # Separate different articles by two newlines\n",
    "    text = normalize('NFKC', text)  # Normalize the text\n",
    "\n",
    "    with open('example.txt', 'w') as fw:\n",
    "        fw.write(text)\n",
    "    \n",
    "    return text"
   ]
  },
  {
   "cell_type": "code",
   "execution_count": 120,
   "metadata": {},
   "outputs": [
    {
     "name": "stdout",
     "output_type": "stream",
     "text": [
      "Beginners BBQ Class Taking Place in Missoula!\n",
      "Do you want to get better at making delicious BBQ? You will have the opportunity, put this on your calendar now. Thursday, September 22nd join World Class BBQ Champion, Tony Balay from Lonestar Smoke Rangers. He will be teaching a beginner level class for everyone who wants to get better with their culinary skills.\n",
      "He will teach you everything you need to know to compete in a KCBS BBQ competition, including techniques, recipes, timelines, meat selection and trimming, plus smoker and fire information.\n",
      "The cost to be in the class is $35 per person, and for spectators it is free. Included in the cost will be either a t-shirt or apron and you will be tasting samples of each meat that is prepared.\n",
      "\n",
      "Discussion in 'Mac OS X Lion (10.7)' started by axboi87, Jan 20, 2012.\n",
      "I've got a 500gb internal drive and a 240gb SSD.\n",
      "When trying to restore using di\n"
     ]
    }
   ],
   "source": [
    "text = convert_json_examples_to_text('./data/data.txt')\n",
    "print(text[:900])"
   ]
  },
  {
   "cell_type": "markdown",
   "metadata": {},
   "source": [
    "In the algorithm the `vocab` variable is actually a frequency dictionary of the words. Further, those words have been prepended with an *underscore* to indicate that they are the beginning of a word. Finally, the characters have been delimited by spaces so that the BPE algorithm can group the most common characters together in the dictionary in a greedy fashion. We will see how that is done shortly."
   ]
  },
  {
   "cell_type": "code",
   "execution_count": 121,
   "metadata": {},
   "outputs": [],
   "source": [
    "from collections import Counter\n",
    "\n",
    "######################        step-1   Build vocab\n",
    "\n",
    "vocab = Counter(['\\u2581' + word for word in text.split()])\n",
    "vocab = {' '.join([l for l in word]): freq for word, freq in vocab.items()}"
   ]
  },
  {
   "cell_type": "code",
   "execution_count": 122,
   "metadata": {},
   "outputs": [],
   "source": [
    "def show_vocab(vocab, end='\\n', limit=20):\n",
    "    \"\"\"Show word frequencys in vocab up to the limit number of words\"\"\"\n",
    "    shown = 0\n",
    "    for word, freq in vocab.items():\n",
    "        print(f'{word}: {freq}', end=end)\n",
    "        shown +=1\n",
    "        if shown > limit:\n",
    "            break"
   ]
  },
  {
   "cell_type": "code",
   "execution_count": 123,
   "metadata": {},
   "outputs": [
    {
     "name": "stdout",
     "output_type": "stream",
     "text": [
      "▁ B e g i n n e r s: 1\n",
      "▁ B B Q: 3\n",
      "▁ C l a s s: 2\n",
      "▁ T a k i n g: 1\n",
      "▁ P l a c e: 1\n",
      "▁ i n: 15\n",
      "▁ M i s s o u l a !: 1\n",
      "▁ D o: 1\n",
      "▁ y o u: 13\n",
      "▁ w a n t: 1\n",
      "▁ t o: 33\n",
      "▁ g e t: 2\n",
      "▁ b e t t e r: 2\n",
      "▁ a t: 1\n",
      "▁ m a k i n g: 2\n",
      "▁ d e l i c i o u s: 1\n",
      "▁ B B Q ?: 1\n",
      "▁ Y o u: 1\n",
      "▁ w i l l: 6\n",
      "▁ h a v e: 4\n",
      "▁ t h e: 31\n"
     ]
    }
   ],
   "source": [
    "show_vocab(vocab)"
   ]
  },
  {
   "cell_type": "markdown",
   "metadata": {},
   "source": [
    "We check the size of the vocabulary (frequency dictionary) because this is the one hyperparameter that BPE depends on crucially on how far it breaks up a word into SentencePieces. It turns out that for our trained model on our small dataset that 60% of 455 merges of the most frequent characters need to be done to reproduce the upperlimit of a 32K `vocab_size` over the entire corpus of examples."
   ]
  },
  {
   "cell_type": "code",
   "execution_count": 124,
   "metadata": {},
   "outputs": [
    {
     "name": "stdout",
     "output_type": "stream",
     "text": [
      "Total number of unique words: 455\n",
      "Number of merges required to reproduce SentencePiece training on the whole corpus: 273\n"
     ]
    }
   ],
   "source": [
    "print(f'Total number of unique words: {len(vocab)}')\n",
    "print(f'Number of merges required to reproduce SentencePiece training on the whole corpus: {int(0.60*len(vocab))}')"
   ]
  },
  {
   "cell_type": "markdown",
   "metadata": {},
   "source": [
    "### BPE Algorithm  (Byte Pair Encoding)\n",
    "Directly from the BPE paper we have the following algorithm. "
   ]
  },
  {
   "cell_type": "markdown",
   "metadata": {},
   "source": [
    "# Must go through the link below"
   ]
  },
  {
   "cell_type": "markdown",
   "metadata": {},
   "source": [
    "# https://towardsdatascience.com/byte-pair-encoding-the-dark-horse-of-modern-nlp-eb36c7df4f10"
   ]
  },
  {
   "cell_type": "markdown",
   "metadata": {},
   "source": [
    "#Step 0. Initialize vocabulary.\n",
    "#Step 1. Represent each word in the corpus as a combination of the characters along with the special end of word token </w>.\n",
    "#Step 2. Iteratively count character pairs in all tokens of the vocabulary.\n",
    "#Step 3. Merge every occurrence of the most frequent pair, add the new character n-gram to the vocabulary.\n",
    "#Step 4. Repeat step 3 until the desired number of merge operations are completed or the desired vocabulary size is achieved ##(which is a hyperparameter)."
   ]
  },
  {
   "cell_type": "code",
   "execution_count": 125,
   "metadata": {},
   "outputs": [],
   "source": [
    "import re, collections\n",
    "\n",
    "def get_stats(vocab):\n",
    "    \n",
    "    #step-2\n",
    "    pairs = collections.defaultdict(int)\n",
    "    for word, freq in vocab.items():\n",
    "        symbols = word.split()\n",
    "        for i in range(len(symbols) - 1):\n",
    "            pairs[symbols[i], symbols[i+1]] += freq\n",
    "    return pairs\n",
    "\n",
    "def merge_vocab(pair, v_in):\n",
    "    v_out = {}\n",
    "    bigram = re.escape(' '.join(pair))\n",
    "    p = re.compile(r'(?<!\\S)' + bigram + r'(?!\\S)')\n",
    "    for word in v_in:\n",
    "        w_out = p.sub(''.join(pair), word)\n",
    "        v_out[w_out] = v_in[word]\n",
    "    return v_out\n",
    "\n",
    "def get_sentence_piece_vocab(vocab, frac_merges=0.60):\n",
    "    sp_vocab = vocab.copy()\n",
    "    num_merges = int(len(sp_vocab)*frac_merges)  # Hyperparameter\n",
    "    \n",
    "    for i in range(num_merges):\n",
    "        pairs = get_stats(sp_vocab)\n",
    "        best = max(pairs, key=pairs.get)  #step-3\n",
    "        sp_vocab = merge_vocab(best, sp_vocab)  #step-4\n",
    "\n",
    "    return sp_vocab"
   ]
  },
  {
   "cell_type": "code",
   "execution_count": 126,
   "metadata": {},
   "outputs": [
    {
     "data": {
      "text/plain": [
       "defaultdict(int,\n",
       "            {('▁', 'B'): 9,\n",
       "             ('B', 'e'): 1,\n",
       "             ('e', 'g'): 2,\n",
       "             ('g', 'i'): 3,\n",
       "             ('i', 'n'): 78,\n",
       "             ('n', 'n'): 3,\n",
       "             ('n', 'e'): 26,\n",
       "             ('e', 'r'): 55,\n",
       "             ('r', 's'): 14,\n",
       "             ('B', 'B'): 4,\n",
       "             ('B', 'Q'): 4,\n",
       "             ('▁', 'C'): 10,\n",
       "             ('C', 'l'): 4,\n",
       "             ('l', 'a'): 18,\n",
       "             ('a', 's'): 23,\n",
       "             ('s', 's'): 9,\n",
       "             ('▁', 'T'): 9,\n",
       "             ('T', 'a'): 1,\n",
       "             ('a', 'k'): 5,\n",
       "             ('k', 'i'): 7,\n",
       "             ('n', 'g'): 36,\n",
       "             ('▁', 'P'): 3,\n",
       "             ('P', 'l'): 1,\n",
       "             ('a', 'c'): 15,\n",
       "             ('c', 'e'): 5,\n",
       "             ('▁', 'i'): 42,\n",
       "             ('▁', 'M'): 3,\n",
       "             ('M', 'i'): 1,\n",
       "             ('i', 's'): 22,\n",
       "             ('s', 'o'): 7,\n",
       "             ('o', 'u'): 34,\n",
       "             ('u', 'l'): 7,\n",
       "             ('a', '!'): 1,\n",
       "             ('▁', 'D'): 16,\n",
       "             ('D', 'o'): 1,\n",
       "             ('▁', 'y'): 18,\n",
       "             ('y', 'o'): 16,\n",
       "             ('▁', 'w'): 31,\n",
       "             ('w', 'a'): 6,\n",
       "             ('a', 'n'): 47,\n",
       "             ('n', 't'): 14,\n",
       "             ('▁', 't'): 99,\n",
       "             ('t', 'o'): 38,\n",
       "             ('▁', 'g'): 6,\n",
       "             ('g', 'e'): 12,\n",
       "             ('e', 't'): 15,\n",
       "             ('▁', 'b'): 47,\n",
       "             ('b', 'e'): 20,\n",
       "             ('t', 't'): 3,\n",
       "             ('t', 'e'): 32,\n",
       "             ('▁', 'a'): 60,\n",
       "             ('a', 't'): 29,\n",
       "             ('▁', 'm'): 40,\n",
       "             ('m', 'a'): 16,\n",
       "             ('▁', 'd'): 41,\n",
       "             ('d', 'e'): 18,\n",
       "             ('e', 'l'): 9,\n",
       "             ('l', 'i'): 26,\n",
       "             ('i', 'c'): 11,\n",
       "             ('c', 'i'): 4,\n",
       "             ('i', 'o'): 23,\n",
       "             ('u', 's'): 10,\n",
       "             ('Q', '?'): 1,\n",
       "             ('▁', 'Y'): 1,\n",
       "             ('Y', 'o'): 1,\n",
       "             ('w', 'i'): 11,\n",
       "             ('i', 'l'): 27,\n",
       "             ('l', 'l'): 28,\n",
       "             ('▁', 'h'): 15,\n",
       "             ('h', 'a'): 23,\n",
       "             ('a', 'v'): 5,\n",
       "             ('v', 'e'): 46,\n",
       "             ('t', 'h'): 61,\n",
       "             ('h', 'e'): 49,\n",
       "             ('▁', 'o'): 37,\n",
       "             ('o', 'p'): 9,\n",
       "             ('p', 'p'): 9,\n",
       "             ('p', 'o'): 5,\n",
       "             ('o', 'r'): 48,\n",
       "             ('r', 't'): 13,\n",
       "             ('t', 'u'): 7,\n",
       "             ('u', 'n'): 9,\n",
       "             ('n', 'i'): 9,\n",
       "             ('i', 't'): 34,\n",
       "             ('t', 'y'): 8,\n",
       "             ('y', ','): 2,\n",
       "             ('▁', 'p'): 20,\n",
       "             ('p', 'u'): 1,\n",
       "             ('u', 't'): 10,\n",
       "             ('h', 'i'): 11,\n",
       "             ('o', 'n'): 66,\n",
       "             ('u', 'r'): 13,\n",
       "             ('▁', 'c'): 30,\n",
       "             ('c', 'a'): 9,\n",
       "             ('a', 'l'): 22,\n",
       "             ('l', 'e'): 26,\n",
       "             ('e', 'n'): 28,\n",
       "             ('n', 'd'): 43,\n",
       "             ('d', 'a'): 10,\n",
       "             ('a', 'r'): 32,\n",
       "             ('▁', 'n'): 12,\n",
       "             ('n', 'o'): 8,\n",
       "             ('o', 'w'): 8,\n",
       "             ('w', '.'): 1,\n",
       "             ('T', 'h'): 6,\n",
       "             ('h', 'u'): 1,\n",
       "             ('s', 'd'): 2,\n",
       "             ('a', 'y'): 9,\n",
       "             ('▁', 'S'): 10,\n",
       "             ('S', 'e'): 1,\n",
       "             ('e', 'p'): 3,\n",
       "             ('p', 't'): 2,\n",
       "             ('e', 'm'): 6,\n",
       "             ('m', 'b'): 2,\n",
       "             ('▁', '2'): 9,\n",
       "             ('2', '2'): 1,\n",
       "             ('2', 'n'): 1,\n",
       "             ('▁', 'j'): 3,\n",
       "             ('j', 'o'): 1,\n",
       "             ('o', 'i'): 6,\n",
       "             ('▁', 'W'): 5,\n",
       "             ('W', 'o'): 2,\n",
       "             ('r', 'l'): 2,\n",
       "             ('l', 'd'): 6,\n",
       "             ('C', 'h'): 1,\n",
       "             ('a', 'm'): 6,\n",
       "             ('m', 'p'): 7,\n",
       "             ('p', 'i'): 1,\n",
       "             ('n', ','): 4,\n",
       "             ('T', 'o'): 1,\n",
       "             ('n', 'y'): 3,\n",
       "             ('B', 'a'): 1,\n",
       "             ('▁', 'f'): 34,\n",
       "             ('f', 'r'): 8,\n",
       "             ('r', 'o'): 20,\n",
       "             ('o', 'm'): 12,\n",
       "             ('▁', 'L'): 4,\n",
       "             ('L', 'o'): 1,\n",
       "             ('e', 's'): 25,\n",
       "             ('s', 't'): 33,\n",
       "             ('t', 'a'): 21,\n",
       "             ('S', 'm'): 1,\n",
       "             ('m', 'o'): 13,\n",
       "             ('o', 'k'): 2,\n",
       "             ('k', 'e'): 7,\n",
       "             ('▁', 'R'): 1,\n",
       "             ('R', 'a'): 1,\n",
       "             ('s', '.'): 7,\n",
       "             ('▁', 'H'): 8,\n",
       "             ('H', 'e'): 3,\n",
       "             ('e', 'a'): 26,\n",
       "             ('c', 'h'): 16,\n",
       "             ('▁', 'l'): 16,\n",
       "             ('e', 'v'): 13,\n",
       "             ('c', 'l'): 14,\n",
       "             ('f', 'o'): 21,\n",
       "             ('▁', 'e'): 19,\n",
       "             ('r', 'y'): 8,\n",
       "             ('w', 'h'): 6,\n",
       "             ('h', 'o'): 15,\n",
       "             ('t', 's'): 10,\n",
       "             ('e', 'i'): 4,\n",
       "             ('i', 'r'): 6,\n",
       "             ('c', 'u'): 3,\n",
       "             ('n', 'a'): 5,\n",
       "             ('▁', 's'): 55,\n",
       "             ('s', 'k'): 7,\n",
       "             ('l', 's'): 6,\n",
       "             ('y', 't'): 1,\n",
       "             ('e', 'e'): 4,\n",
       "             ('e', 'd'): 20,\n",
       "             ('▁', 'k'): 4,\n",
       "             ('k', 'n'): 1,\n",
       "             ('c', 'o'): 12,\n",
       "             ('p', 'e'): 15,\n",
       "             ('▁', 'K'): 1,\n",
       "             ('K', 'C'): 1,\n",
       "             ('C', 'B'): 1,\n",
       "             ('B', 'S'): 1,\n",
       "             ('t', 'i'): 39,\n",
       "             ('n', 'c'): 8,\n",
       "             ('l', 'u'): 6,\n",
       "             ('u', 'd'): 10,\n",
       "             ('d', 'i'): 13,\n",
       "             ('e', 'c'): 8,\n",
       "             ('h', 'n'): 1,\n",
       "             ('i', 'q'): 1,\n",
       "             ('q', 'u'): 3,\n",
       "             ('u', 'e'): 2,\n",
       "             ('s', ','): 6,\n",
       "             ('▁', 'r'): 13,\n",
       "             ('r', 'e'): 39,\n",
       "             ('i', 'p'): 3,\n",
       "             ('i', 'm'): 5,\n",
       "             ('m', 'e'): 20,\n",
       "             ('s', 'e'): 10,\n",
       "             ('c', 't'): 7,\n",
       "             ('t', 'r'): 5,\n",
       "             ('r', 'i'): 16,\n",
       "             ('m', 'm'): 2,\n",
       "             ('m', 'i'): 10,\n",
       "             ('g', ','): 1,\n",
       "             ('p', 'l'): 6,\n",
       "             ('s', 'm'): 5,\n",
       "             ('f', 'i'): 10,\n",
       "             ('n', 'f'): 1,\n",
       "             ('r', 'm'): 4,\n",
       "             ('n', '.'): 2,\n",
       "             ('o', 's'): 6,\n",
       "             ('▁', '$'): 4,\n",
       "             ('$', '3'): 1,\n",
       "             ('3', '5'): 1,\n",
       "             ('s', 'p'): 4,\n",
       "             ('e', '.'): 9,\n",
       "             ('▁', 'I'): 16,\n",
       "             ('I', 'n'): 2,\n",
       "             ('t', '-'): 1,\n",
       "             ('-', 's'): 1,\n",
       "             ('s', 'h'): 4,\n",
       "             ('a', 'p'): 5,\n",
       "             ('p', 'r'): 11,\n",
       "             ('s', 'a'): 6,\n",
       "             ('o', 'f'): 15,\n",
       "             ('p', 'a'): 8,\n",
       "             ('d', '.'): 5,\n",
       "             ('D', 'i'): 4,\n",
       "             ('s', 'c'): 8,\n",
       "             ('s', 'i'): 13,\n",
       "             ('▁', \"'\"): 2,\n",
       "             (\"'\", 'M'): 1,\n",
       "             ('M', 'a'): 2,\n",
       "             ('▁', 'O'): 5,\n",
       "             ('O', 'S'): 1,\n",
       "             ('▁', 'X'): 1,\n",
       "             ('L', 'i'): 2,\n",
       "             ('▁', '('): 5,\n",
       "             ('(', '1'): 1,\n",
       "             ('1', '0'): 3,\n",
       "             ('0', '.'): 2,\n",
       "             ('.', '7'): 1,\n",
       "             ('7', ')'): 1,\n",
       "             (')', \"'\"): 1,\n",
       "             ('b', 'y'): 2,\n",
       "             ('a', 'x'): 2,\n",
       "             ('x', 'b'): 1,\n",
       "             ('b', 'o'): 20,\n",
       "             ('i', '8'): 1,\n",
       "             ('8', '7'): 1,\n",
       "             ('7', ','): 1,\n",
       "             ('▁', 'J'): 1,\n",
       "             ('J', 'a'): 1,\n",
       "             ('2', '0'): 4,\n",
       "             ('0', ','): 1,\n",
       "             ('0', '1'): 3,\n",
       "             ('1', '2'): 1,\n",
       "             ('2', '.'): 1,\n",
       "             ('I', \"'\"): 3,\n",
       "             (\"'\", 'v'): 3,\n",
       "             ('g', 'o'): 4,\n",
       "             ('o', 't'): 18,\n",
       "             ('▁', '5'): 1,\n",
       "             ('5', '0'): 1,\n",
       "             ('0', '0'): 5,\n",
       "             ('0', 'g'): 2,\n",
       "             ('g', 'b'): 2,\n",
       "             ('r', 'n'): 4,\n",
       "             ('d', 'r'): 12,\n",
       "             ('i', 'v'): 14,\n",
       "             ('2', '4'): 3,\n",
       "             ('4', '0'): 1,\n",
       "             ('S', 'S'): 4,\n",
       "             ('S', 'D'): 5,\n",
       "             ('D', '.'): 2,\n",
       "             ('W', 'h'): 2,\n",
       "             ('y', 'i'): 2,\n",
       "             ('▁', 'u'): 11,\n",
       "             ('i', \"'\"): 1,\n",
       "             (\"'\", 'm'): 1,\n",
       "             ('r', 'r'): 1,\n",
       "             ('▁', '\"'): 2,\n",
       "             ('\"', 'N'): 1,\n",
       "             ('N', 'o'): 2,\n",
       "             ('u', 'g'): 1,\n",
       "             ('g', 'h'): 2,\n",
       "             ('▁', '_'): 1,\n",
       "             ('_', '_'): 3,\n",
       "             ('e', '\"'): 2,\n",
       "             ('B', 'u'): 1,\n",
       "             ('d', 'n'): 2,\n",
       "             ('n', \"'\"): 3,\n",
       "             (\"'\", 't'): 3,\n",
       "             ('d', 'o'): 10,\n",
       "             ('t', '!'): 1,\n",
       "             ('!', '!'): 2,\n",
       "             ('▁', 'A'): 4,\n",
       "             ('A', 'n'): 1,\n",
       "             ('i', 'd'): 6,\n",
       "             ('w', 'o'): 10,\n",
       "             ('r', 'k'): 5,\n",
       "             ('k', 'a'): 1,\n",
       "             ('d', 's'): 3,\n",
       "             ('e', 'f'): 5,\n",
       "             ('a', 'b'): 9,\n",
       "             ('o', 'v'): 8,\n",
       "             ('e', '?'): 5,\n",
       "             ('▁', 'U'): 5,\n",
       "             ('U', 's'): 1,\n",
       "             ('C', 'a'): 1,\n",
       "             ('r', 'b'): 1,\n",
       "             ('C', 'o'): 1,\n",
       "             ('p', 'y'): 4,\n",
       "             ('l', 'o'): 11,\n",
       "             ('r', '.'): 1,\n",
       "             ('r', 'a'): 11,\n",
       "             ('r', 'g'): 6,\n",
       "             ('H', 'D'): 1,\n",
       "             ('D', 'D'): 1,\n",
       "             ('u', 'p'): 6,\n",
       "             ('o', 'o'): 11,\n",
       "             ('b', 'l'): 10,\n",
       "             ('O', 'n'): 1,\n",
       "             ('U', 't'): 2,\n",
       "             ('▁', 'G'): 5,\n",
       "             ('G', 'U'): 1,\n",
       "             ('U', 'I'): 1,\n",
       "             ('I', 'D'): 1,\n",
       "             ('H', 'F'): 1,\n",
       "             ('F', 'S'): 1,\n",
       "             ('S', '+'): 1,\n",
       "             ('I', 'f'): 2,\n",
       "             ('A', 'p'): 2,\n",
       "             ('P', 'a'): 1,\n",
       "             ('S', 'c'): 2,\n",
       "             ('e', ','): 4,\n",
       "             ('i', 'f'): 3,\n",
       "             ('C', 'C'): 6,\n",
       "             ('s', 'u'): 10,\n",
       "             ('l', 't'): 3,\n",
       "             ('u', 'a'): 5,\n",
       "             ('l', 'y'): 11,\n",
       "             ('k', 's'): 8,\n",
       "             ('\"', 'f'): 1,\n",
       "             ('o', 'd'): 2,\n",
       "             ('(', 't'): 1,\n",
       "             ('t', \"'\"): 2,\n",
       "             (\"'\", 's'): 2,\n",
       "             ('t', 'l'): 2,\n",
       "             ('y', ')'): 1,\n",
       "             ('▁', 'N'): 2,\n",
       "             ('N', 'O'): 1,\n",
       "             ('O', 'T'): 1,\n",
       "             ('m', ','): 1,\n",
       "             ('o', 'c'): 1,\n",
       "             ('c', 'k'): 11,\n",
       "             ('m', 'u'): 1,\n",
       "             ('i', 'z'): 2,\n",
       "             ('z', 'e'): 2,\n",
       "             ('(', 'i'): 1,\n",
       "             ('l', ')'): 1,\n",
       "             (')', '.'): 1,\n",
       "             ('e', 'h'): 1,\n",
       "             ('(', 'b'): 1,\n",
       "             ('f', 'f'): 1,\n",
       "             ('f', 'e'): 2,\n",
       "             ('(', 'o'): 1,\n",
       "             ('d', 'v'): 1,\n",
       "             ('v', 'd'): 1,\n",
       "             ('d', ')'): 1,\n",
       "             ('r', 'u'): 5,\n",
       "             ('g', ')'): 1,\n",
       "             ('a', 'd'): 5,\n",
       "             ('j', 'u'): 1,\n",
       "             ('D', 'e'): 8,\n",
       "             ('t', ','): 1,\n",
       "             ('t', 'c'): 1,\n",
       "             ('c', '.'): 1,\n",
       "             ('.', '.'): 3,\n",
       "             ('n', 'k'): 10,\n",
       "             ('t', '.'): 3,\n",
       "             ('M', 'y'): 1,\n",
       "             ('n', 'l'): 1,\n",
       "             ('e', 'x'): 3,\n",
       "             ('x', 'p'): 1,\n",
       "             ('i', 'e'): 2,\n",
       "             ('D', 'U'): 1,\n",
       "             ('n', 's'): 6,\n",
       "             ('l', 'E'): 1,\n",
       "             ('E', 'S'): 1,\n",
       "             ('.', 'd'): 1,\n",
       "             ('d', 'm'): 1,\n",
       "             ('m', 'g'): 1,\n",
       "             ('▁', '4'): 2,\n",
       "             ('G', 'B'): 2,\n",
       "             ('U', 'S'): 2,\n",
       "             ('S', 'B'): 1,\n",
       "             ('b', 'u'): 5,\n",
       "             ('s', 'l'): 2,\n",
       "             ('i', 'g'): 4,\n",
       "             ('h', 't'): 1,\n",
       "             ('a', '.'): 1,\n",
       "             ('▁', 'F'): 1,\n",
       "             ('F', 'o'): 1,\n",
       "             ('a', 'i'): 3,\n",
       "             ('y', 'c'): 1,\n",
       "             ('c', 'r'): 2,\n",
       "             ('k', 'y'): 1,\n",
       "             ('A', 't'): 1,\n",
       "             ('O', '-'): 1,\n",
       "             ('-', 'r'): 1,\n",
       "             ('g', '.'): 1,\n",
       "             ('d', 'b'): 2,\n",
       "             ('b', 'a'): 6,\n",
       "             ('G', 'r'): 1,\n",
       "             ('j', 'a'): 1,\n",
       "             ('a', 'z'): 1,\n",
       "             ('z', 'z'): 1,\n",
       "             ('u', 'm'): 3,\n",
       "             ('S', 'A'): 1,\n",
       "             ('A', '.'): 1,\n",
       "             ('H', 'o'): 2,\n",
       "             ('k', 'l'): 6,\n",
       "             ('e', 'w'): 5,\n",
       "             (\"'\", 'B'): 1,\n",
       "             ('B', 'l'): 1,\n",
       "             ('H', 'a'): 1,\n",
       "             ('S', 'E'): 1,\n",
       "             ('E', 'O'): 1,\n",
       "             ('O', \"'\"): 1,\n",
       "             ('O', 'm'): 1,\n",
       "             ('a', ','): 1,\n",
       "             ('▁', '3'): 2,\n",
       "             ('3', ','): 1,\n",
       "             ('▁', '1'): 5,\n",
       "             ('1', ')'): 1,\n",
       "             ('w', 'l'): 1,\n",
       "             ('▁', '#'): 1,\n",
       "             ('a', 'f'): 2,\n",
       "             ('2', ')'): 1,\n",
       "             ('m', 'y'): 4,\n",
       "             ('a', 'g'): 5,\n",
       "             ('s', '?'): 1,\n",
       "             ('▁', '6'): 1,\n",
       "             ('6', '0'): 1,\n",
       "             ('y', 's'): 1,\n",
       "             ('b', 'r'): 2,\n",
       "             ('h', 'r'): 1,\n",
       "             ('1', '8'): 3,\n",
       "             ('▁', '0'): 1,\n",
       "             ('m', 's'): 1,\n",
       "             ('o', 'x'): 1,\n",
       "             ('x', 'e'): 1,\n",
       "             ('y', 'b'): 1,\n",
       "             ('h', 's'): 1,\n",
       "             ('e', 'y'): 2,\n",
       "             ('y', 'w'): 2,\n",
       "             ('r', 'd'): 3,\n",
       "             ('u', 'i'): 4,\n",
       "             ('n', 'u'): 2,\n",
       "             ('u', 'b'): 2,\n",
       "             ('b', 'm'): 1,\n",
       "             ('y', 'p'): 1,\n",
       "             ('▁', '+'): 1,\n",
       "             ('v', 'a'): 1,\n",
       "             ('f', 't'): 1,\n",
       "             ('b', 'i'): 1,\n",
       "             ('w', ','): 1,\n",
       "             ('d', 'u'): 3,\n",
       "             ('8', 'k'): 1,\n",
       "             ('▁', 'q'): 2,\n",
       "             ('p', '?'): 1,\n",
       "             ('n', '/'): 1,\n",
       "             ('/', 's'): 1,\n",
       "             ('r', 'c'): 1,\n",
       "             ('n', 'v'): 8,\n",
       "             ('B', 'o'): 2,\n",
       "             ('o', 'a'): 1,\n",
       "             ('▁', 'E'): 1,\n",
       "             ('E', 'd'): 1,\n",
       "             ('u', 'c'): 4,\n",
       "             ('1', '7'): 1,\n",
       "             ('7', '-'): 1,\n",
       "             ('-', '1'): 1,\n",
       "             ('o', 'l'): 6,\n",
       "             ('y', 'e'): 4,\n",
       "             ('p', 'd'): 1,\n",
       "             ('o', 'j'): 2,\n",
       "             ('j', 'e'): 2,\n",
       "             ('p', 'g'): 1,\n",
       "             ('g', 'r'): 2,\n",
       "             ('g', 'a'): 2,\n",
       "             ('v', 'i'): 1,\n",
       "             ('n', 'm'): 1,\n",
       "             ('W', 'e'): 1,\n",
       "             ('x', 'c'): 1,\n",
       "             ('i', 'a'): 2,\n",
       "             ('r', ','): 1,\n",
       "             ('$', '5'): 3,\n",
       "             ('5', '7'): 2,\n",
       "             ('7', '2'): 2,\n",
       "             ('G', 'e'): 1,\n",
       "             ('O', 'b'): 1,\n",
       "             ('S', 'i'): 1,\n",
       "             ('d', ','): 1,\n",
       "             ('r', '-'): 2,\n",
       "             ('-', 'y'): 1,\n",
       "             ('▁', 'v'): 4,\n",
       "             ('v', 'o'): 4,\n",
       "             ('T', 'u'): 1,\n",
       "             ('f', 'u'): 4,\n",
       "             ('P', 'u'): 1,\n",
       "             ('5', '6'): 1,\n",
       "             ('6', '.'): 1,\n",
       "             ('.', '6'): 1,\n",
       "             ('c', 'y'): 1,\n",
       "             ('y', '.'): 1,\n",
       "             ('v', 'y'): 2,\n",
       "             ('D', 'P'): 2,\n",
       "             ('P', 'S'): 2,\n",
       "             ('-', 'a'): 1,\n",
       "             ('v', '.'): 1,\n",
       "             ('▁', '8'): 1,\n",
       "             ('L', 'e'): 1,\n",
       "             ('t', '’'): 1,\n",
       "             ('’', 's'): 1})"
      ]
     },
     "execution_count": 126,
     "metadata": {},
     "output_type": "execute_result"
    }
   ],
   "source": [
    "get_stats(vocab)"
   ]
  },
  {
   "cell_type": "code",
   "execution_count": 127,
   "metadata": {},
   "outputs": [
    {
     "data": {
      "text/plain": [
       "('i', 'n')"
      ]
     },
     "execution_count": 127,
     "metadata": {},
     "output_type": "execute_result"
    }
   ],
   "source": [
    "pairs = {('▁', 'B'): 9, ('B', 'e'): 1, ('e', 'g'): 2, ('g', 'i'): 3, ('i', 'n'): 78, ('n', 'n'): 3, ('n', 'e'): 26, ('e', 'r'): 55}\n",
    "pair = max(pairs,key=pairs.get)\n",
    "pair"
   ]
  },
  {
   "cell_type": "code",
   "execution_count": 128,
   "metadata": {},
   "outputs": [
    {
     "data": {
      "text/plain": [
       "'i\\\\ n'"
      ]
     },
     "execution_count": 128,
     "metadata": {},
     "output_type": "execute_result"
    }
   ],
   "source": [
    "v_out = {}\n",
    "bigram = re.escape(' '.join(pair))\n",
    "bigram"
   ]
  },
  {
   "cell_type": "code",
   "execution_count": 129,
   "metadata": {},
   "outputs": [
    {
     "data": {
      "text/plain": [
       "re.compile(r'(?<!\\S)i\\ n(?!\\S)', re.UNICODE)"
      ]
     },
     "execution_count": 129,
     "metadata": {},
     "output_type": "execute_result"
    }
   ],
   "source": [
    "p = re.compile(r'(?<!\\S)' + bigram + r'(?!\\S)')\n",
    "p"
   ]
  },
  {
   "cell_type": "code",
   "execution_count": 130,
   "metadata": {},
   "outputs": [],
   "source": [
    "vcb = {'▁ B e g i n n e r s': 1,\n",
    " '▁ B B Q': 3,\n",
    " '▁ C l a s s': 2,\n",
    " '▁ T a k i n g': 1,\n",
    " '▁ P l a c e': 1,\n",
    " '▁ i n': 15,\n",
    " '▁ M i s s o u l a !': 1,\n",
    " '▁ D o': 1,\n",
    " '▁ y o u': 13,\n",
    " '▁ w a n t': 1,\n",
    " '▁ t o': 33,\n",
    " '▁ g e t': 2,\n",
    " '▁ b e t t e r': 2,\n",
    " '▁ a t': 1,\n",
    " '▁ m a k i n g': 2,\n",
    " '▁ d e l i c i o u s': 1,\n",
    " '▁ B B Q ?': 1,\n",
    " '▁ Y o u': 1,\n",
    " '▁ w i l l': 6} "
   ]
  },
  {
   "cell_type": "code",
   "execution_count": 131,
   "metadata": {},
   "outputs": [
    {
     "data": {
      "text/plain": [
       "{'▁ B e g in n e r s': 1,\n",
       " '▁ B B Q': 3,\n",
       " '▁ C l a s s': 2,\n",
       " '▁ T a k in g': 1,\n",
       " '▁ P l a c e': 1,\n",
       " '▁ in': 15,\n",
       " '▁ M i s s o u l a !': 1,\n",
       " '▁ D o': 1,\n",
       " '▁ y o u': 13,\n",
       " '▁ w a n t': 1,\n",
       " '▁ t o': 33,\n",
       " '▁ g e t': 2,\n",
       " '▁ b e t t e r': 2,\n",
       " '▁ a t': 1,\n",
       " '▁ m a k in g': 2,\n",
       " '▁ d e l i c i o u s': 1,\n",
       " '▁ B B Q ?': 1,\n",
       " '▁ Y o u': 1,\n",
       " '▁ w i l l': 6}"
      ]
     },
     "execution_count": 131,
     "metadata": {},
     "output_type": "execute_result"
    }
   ],
   "source": [
    "for word in vcb:\n",
    "    w_out = p.sub(''.join(pair), word)\n",
    "    v_out[w_out] = vcb[word]\n",
    "v_out"
   ]
  },
  {
   "cell_type": "markdown",
   "metadata": {},
   "source": [
    "To understand what's going on first take a look at the third function `get_sentence_piece_vocab`. It takes in the current `vocab` word-frequency dictionary and the fraction, `frac_merges`, of the total `vocab_size` to merge characters in the words of the dictionary, `num_merges` times. Then for each *merge* operation it `get_stats` on how many of each pair of character sequences there are. It gets the most frequent *pair* of symbols as the `best` pair. Then it merges that pair of symbols (removes the space between them) in each word in the `vocab` that contains this `best` (= `pair`). Consequently, `merge_vocab` creates a new `vocab`, `v_out`. This process is repeated `num_merges` times and the result is the set of SentencePieces (keys of the final `sp_vocab`)."
   ]
  },
  {
   "cell_type": "markdown",
   "metadata": {},
   "source": [
    "### Additional Discussion of BPE Algorithm"
   ]
  },
  {
   "cell_type": "markdown",
   "metadata": {},
   "source": [
    "Please feel free to skip the below if the above description was enough.\n",
    "\n",
    "In a little more detail then, we can see in `get_stats` we initially create a list of bigram (two character sequence) frequencies from our vocabulary. Later, this may include trigrams, quadgrams, etc. Note that the key of the `pairs` frequency dictionary is actually a 2-tuple, which is just shorthand notation for a pair.\n",
    "\n",
    "In `merge_vocab` we take in an individual `pair` (of character sequences, note this is the most frequency `best` pair) and the current `vocab` as `v_in`. We create a new `vocab`, `v_out`, from the old by joining together the characters in the pair (removing the space), if they are present in a word of the dictionary.\n",
    "\n",
    "[Warning](https://regex101.com/): the expression `(?<!\\S)` means that either a whitespace character follows before the `bigram` or there is nothing before the bigram (it is the beginning of the word), similarly for `(?!\\S)` for preceding whitespace or the end of the word. "
   ]
  },
  {
   "cell_type": "code",
   "execution_count": 36,
   "metadata": {},
   "outputs": [
    {
     "name": "stdout",
     "output_type": "stream",
     "text": [
      "▁B e g in n ers: 1\n",
      "▁BBQ: 3\n",
      "▁Cl ass: 2\n",
      "▁T ak ing: 1\n",
      "▁P la ce: 1\n",
      "▁in: 15\n",
      "▁M is s ou la !: 1\n",
      "▁D o: 1\n",
      "▁you: 13\n",
      "▁w an t: 1\n",
      "▁to: 33\n",
      "▁g et: 2\n",
      "▁be t ter: 2\n",
      "▁a t: 1\n",
      "▁mak ing: 2\n",
      "▁d e l ic i ou s: 1\n",
      "▁BBQ ?: 1\n",
      "▁ Y ou: 1\n",
      "▁will: 6\n",
      "▁have: 4\n",
      "▁the: 31\n"
     ]
    }
   ],
   "source": [
    "sp_vocab = get_sentence_piece_vocab(vocab)\n",
    "show_vocab(sp_vocab) "
   ]
  },
  {
   "cell_type": "markdown",
   "metadata": {},
   "source": [
    "## Train SentencePiece BPE Tokenizer on Example Data\n",
    "### Explore SentencePiece Model\n",
    "First let us explore the SentencePiece model provided with this week's assignment. Remember you can always use Python's built in `help` command to see the documentation for any object or method."
   ]
  },
  {
   "cell_type": "code",
   "execution_count": 37,
   "metadata": {},
   "outputs": [],
   "source": [
    "import sentencepiece as spm\n",
    "sp = spm.SentencePieceProcessor(model_file='./data/sentencepiece.model')"
   ]
  },
  {
   "cell_type": "code",
   "execution_count": 38,
   "metadata": {},
   "outputs": [],
   "source": [
    "# help(sp)"
   ]
  },
  {
   "cell_type": "markdown",
   "metadata": {},
   "source": [
    "Let's work with the first sentence of our example text."
   ]
  },
  {
   "cell_type": "code",
   "execution_count": 39,
   "metadata": {},
   "outputs": [],
   "source": [
    "s0 = 'Beginners BBQ Class Taking Place in Missoula!'"
   ]
  },
  {
   "cell_type": "code",
   "execution_count": 40,
   "metadata": {},
   "outputs": [
    {
     "name": "stdout",
     "output_type": "stream",
     "text": [
      "['▁Beginn', 'ers', '▁BBQ', '▁Class', '▁', 'Taking', '▁Place', '▁in', '▁Miss', 'oul', 'a', '!']\n",
      "[12847, 277, 15068, 4501, 3, 12297, 3399, 16, 5964, 7115, 9, 55]\n",
      "Beginners BBQ Class Taking Place in Missoula!\n",
      "Beginners\n"
     ]
    }
   ],
   "source": [
    "# encode: text => id\n",
    "print(sp.encode_as_pieces(s0))\n",
    "print(sp.encode_as_ids(s0))\n",
    "\n",
    "# decode: id => text\n",
    "print(sp.decode_pieces(sp.encode_as_pieces(s0)))\n",
    "print(sp.decode_ids([12847, 277]))"
   ]
  },
  {
   "cell_type": "markdown",
   "metadata": {},
   "source": [
    "Notice how SentencePiece breaks the words into seemingly odd parts, but we've seen something similar from our work with BPE. But how close were we to this model trained on the whole corpus of examples with a `vocab_size` of 32,000 instead of 455? Here you can also test what happens to white space, like '\\n'. \n",
    "\n",
    "But first let us note that SentencePiece encodes the SentencePieces, the tokens, and has reserved some of the ids as can be seen in this week's assignment."
   ]
  },
  {
   "cell_type": "code",
   "execution_count": 41,
   "metadata": {},
   "outputs": [
    {
     "name": "stdout",
     "output_type": "stream",
     "text": [
      "SentencePiece for ID 15068: ▁BBQ\n",
      "ID for Sentence Piece ▁BBQ: 15068\n",
      "ID for unknown text __MUST_BE_UNKNOWN__: 2\n"
     ]
    }
   ],
   "source": [
    "uid = 15068\n",
    "spiece = \"\\u2581BBQ\"\n",
    "unknown = \"__MUST_BE_UNKNOWN__\"\n",
    "\n",
    "# id <=> piece conversion\n",
    "print(f'SentencePiece for ID {uid}: {sp.id_to_piece(uid)}')\n",
    "print(f'ID for Sentence Piece {spiece}: {sp.piece_to_id(spiece)}')\n",
    "\n",
    "# returns 0 for unknown tokens (we can change the id for UNK)\n",
    "print(f'ID for unknown text {unknown}: {sp.piece_to_id(unknown)}')"
   ]
  },
  {
   "cell_type": "code",
   "execution_count": 42,
   "metadata": {},
   "outputs": [
    {
     "name": "stdout",
     "output_type": "stream",
     "text": [
      "Beginning of sentence id: -1\n",
      "Pad id: 0\n",
      "End of sentence id: 1\n",
      "Unknown id: 2\n",
      "Vocab size: 32000\n"
     ]
    }
   ],
   "source": [
    "print(f'Beginning of sentence id: {sp.bos_id()}')\n",
    "print(f'Pad id: {sp.pad_id()}')\n",
    "print(f'End of sentence id: {sp.eos_id()}')\n",
    "print(f'Unknown id: {sp.unk_id()}')\n",
    "print(f'Vocab size: {sp.vocab_size()}')"
   ]
  },
  {
   "cell_type": "markdown",
   "metadata": {},
   "source": [
    "We can also check what are the ids for the first part and last part of the vocabulary."
   ]
  },
  {
   "cell_type": "code",
   "execution_count": 43,
   "metadata": {},
   "outputs": [
    {
     "name": "stdout",
     "output_type": "stream",
     "text": [
      "\n",
      "Id\tSentP\tControl?\n",
      "------------------------\n",
      "0\t<pad>\tTrue\n",
      "1\t</s>\tTrue\n",
      "2\t<unk>\tFalse\n",
      "3\t▁\tFalse\n",
      "4\tX\tFalse\n",
      "5\t.\tFalse\n",
      "6\t,\tFalse\n",
      "7\ts\tFalse\n",
      "8\t▁the\tFalse\n",
      "9\ta\tFalse\n"
     ]
    }
   ],
   "source": [
    "print('\\nId\\tSentP\\tControl?')\n",
    "print('------------------------')\n",
    "# <unk>, <s>, </s> are defined by default. Their ids are (0, 1, 2)\n",
    "# <s> and </s> are defined as 'control' symbol.\n",
    "for uid in range(10):\n",
    "    print(uid, sp.id_to_piece(uid), sp.is_control(uid), sep='\\t')\n",
    "    \n",
    "# for uid in range(sp.vocab_size()-10,sp.vocab_size()):\n",
    "#     print(uid, sp.id_to_piece(uid), sp.is_control(uid), sep='\\t')"
   ]
  },
  {
   "cell_type": "markdown",
   "metadata": {},
   "source": [
    "### Train SentencePiece BPE model with our example.txt"
   ]
  },
  {
   "cell_type": "markdown",
   "metadata": {},
   "source": [
    "Finally, let's train our own BPE model directly from the SentencePiece library and compare it to the results of our implemention of the algorithm from the BPE paper itself."
   ]
  },
  {
   "cell_type": "code",
   "execution_count": 44,
   "metadata": {},
   "outputs": [
    {
     "name": "stdout",
     "output_type": "stream",
     "text": [
      "*** BPE ***\n",
      "['▁B', 'e', 'ginn', 'ers', '▁BBQ', '▁Cl', 'ass', '▁T', 'ak', 'ing', '▁P', 'la', 'ce', '▁in', '▁M', 'is', 's', 'ou', 'la', '!']\n"
     ]
    }
   ],
   "source": [
    "spm.SentencePieceTrainer.train('--input=example.txt --model_prefix=example_bpe --vocab_size=450 --model_type=bpe')\n",
    "sp_bpe = spm.SentencePieceProcessor()\n",
    "sp_bpe.load('example_bpe.model')\n",
    "\n",
    "print('*** BPE ***')\n",
    "print(sp_bpe.encode_as_pieces(s0))"
   ]
  },
  {
   "cell_type": "code",
   "execution_count": 45,
   "metadata": {},
   "outputs": [
    {
     "name": "stdout",
     "output_type": "stream",
     "text": [
      "▁B e g in n ers: 1, ▁BBQ: 3, ▁Cl ass: 2, ▁T ak ing: 1, ▁P la ce: 1, ▁in: 15, ▁M is s ou la !: 1, ▁D o: 1, ▁you: 13, ▁w an t: 1, ▁to: 33, ▁g et: 2, ▁be t ter: 2, ▁a t: 1, ▁mak ing: 2, ▁d e l ic i ou s: 1, ▁BBQ ?: 1, ▁ Y ou: 1, ▁will: 6, ▁have: 4, ▁the: 31, "
     ]
    }
   ],
   "source": [
    "show_vocab(sp_vocab, end = ', ')"
   ]
  },
  {
   "cell_type": "markdown",
   "metadata": {},
   "source": [
    "Our implementation of BPE's code from the paper matches up pretty well with the library itself! The differences are probably accounted for by the `vocab_size`. There is also another technical difference in that in the SentencePiece implementation of BPE a priority queue is used to more efficiently keep track of the *best pairs*. Actually, there is a priority queue in the Python standard library called `heapq` if you would like to give that a try below! "
   ]
  },
  {
   "cell_type": "markdown",
   "metadata": {},
   "source": [
    "## Optionally try to implement BPE using a priority queue below"
   ]
  },
  {
   "cell_type": "code",
   "execution_count": 46,
   "metadata": {},
   "outputs": [],
   "source": [
    "from heapq import heappush, heappop"
   ]
  },
  {
   "cell_type": "code",
   "execution_count": 47,
   "metadata": {},
   "outputs": [],
   "source": [
    "def heapsort(iterable):\n",
    "    h = []\n",
    "    for value in iterable:\n",
    "        heappush(h, value)\n",
    "    return [heappop(h) for i in range(len(h))]"
   ]
  },
  {
   "cell_type": "code",
   "execution_count": 48,
   "metadata": {},
   "outputs": [
    {
     "data": {
      "text/plain": [
       "[1, 1, 1, 2, 2, 3, 3, 4, 4]"
      ]
     },
     "execution_count": 48,
     "metadata": {},
     "output_type": "execute_result"
    }
   ],
   "source": [
    "a = [1,4,3,1,3,2,1,4,2]\n",
    "heapsort(a)"
   ]
  },
  {
   "cell_type": "markdown",
   "metadata": {},
   "source": [
    "For a more extensive example consider looking at the [SentencePiece repo](https://github.com/google/sentencepiece/blob/master/python/sentencepiece_python_module_example.ipynb). The last few sections of this code was repurposed from that tutorial. Thanks for your participation! Next stop BERT and T5!"
   ]
  }
 ],
 "metadata": {
  "kernelspec": {
   "display_name": "Python 3",
   "language": "python",
   "name": "python3"
  },
  "language_info": {
   "codemirror_mode": {
    "name": "ipython",
    "version": 3
   },
   "file_extension": ".py",
   "mimetype": "text/x-python",
   "name": "python",
   "nbconvert_exporter": "python",
   "pygments_lexer": "ipython3",
   "version": "3.7.6"
  }
 },
 "nbformat": 4,
 "nbformat_minor": 4
}
